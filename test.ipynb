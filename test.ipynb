{
 "cells": [
  {
   "cell_type": "code",
   "execution_count": 43,
   "metadata": {},
   "outputs": [],
   "source": [
    "import pandas as pd\n",
    "df = pd.read_csv(f'data_storage/stock_price_data/Energy/APA.csv')"
   ]
  },
  {
   "cell_type": "code",
   "execution_count": 44,
   "metadata": {},
   "outputs": [],
   "source": [
    "df['Date'] = pd.to_datetime(df['Date'])"
   ]
  },
  {
   "cell_type": "code",
   "execution_count": 45,
   "metadata": {},
   "outputs": [
    {
     "data": {
      "text/plain": [
       "106"
      ]
     },
     "execution_count": 45,
     "metadata": {},
     "output_type": "execute_result"
    }
   ],
   "source": [
    "df[df['Date'] == pd.to_datetime(\"07/01/2024\")].index[0]"
   ]
  },
  {
   "cell_type": "code",
   "execution_count": 46,
   "metadata": {},
   "outputs": [
    {
     "data": {
      "text/html": [
       "<div>\n",
       "<style scoped>\n",
       "    .dataframe tbody tr th:only-of-type {\n",
       "        vertical-align: middle;\n",
       "    }\n",
       "\n",
       "    .dataframe tbody tr th {\n",
       "        vertical-align: top;\n",
       "    }\n",
       "\n",
       "    .dataframe thead th {\n",
       "        text-align: right;\n",
       "    }\n",
       "</style>\n",
       "<table border=\"1\" class=\"dataframe\">\n",
       "  <thead>\n",
       "    <tr style=\"text-align: right;\">\n",
       "      <th></th>\n",
       "      <th>index</th>\n",
       "      <th>Date</th>\n",
       "      <th>Close/Last</th>\n",
       "      <th>Volume</th>\n",
       "      <th>Open</th>\n",
       "      <th>High</th>\n",
       "      <th>Low</th>\n",
       "    </tr>\n",
       "  </thead>\n",
       "  <tbody>\n",
       "    <tr>\n",
       "      <th>0</th>\n",
       "      <td>1257</td>\n",
       "      <td>2019-12-02</td>\n",
       "      <td>$19.54</td>\n",
       "      <td>22790570</td>\n",
       "      <td>$20.00</td>\n",
       "      <td>$20.42</td>\n",
       "      <td>$18.93</td>\n",
       "    </tr>\n",
       "    <tr>\n",
       "      <th>1</th>\n",
       "      <td>1256</td>\n",
       "      <td>2019-12-03</td>\n",
       "      <td>$18.38</td>\n",
       "      <td>15187360</td>\n",
       "      <td>$19.25</td>\n",
       "      <td>$19.30</td>\n",
       "      <td>$18.33</td>\n",
       "    </tr>\n",
       "    <tr>\n",
       "      <th>2</th>\n",
       "      <td>1255</td>\n",
       "      <td>2019-12-04</td>\n",
       "      <td>$18.70</td>\n",
       "      <td>10408040</td>\n",
       "      <td>$18.61</td>\n",
       "      <td>$19.16</td>\n",
       "      <td>$18.5003</td>\n",
       "    </tr>\n",
       "    <tr>\n",
       "      <th>3</th>\n",
       "      <td>1254</td>\n",
       "      <td>2019-12-05</td>\n",
       "      <td>$18.58</td>\n",
       "      <td>7503783</td>\n",
       "      <td>$18.78</td>\n",
       "      <td>$18.9824</td>\n",
       "      <td>$18.44</td>\n",
       "    </tr>\n",
       "    <tr>\n",
       "      <th>4</th>\n",
       "      <td>1253</td>\n",
       "      <td>2019-12-06</td>\n",
       "      <td>$19.99</td>\n",
       "      <td>10085920</td>\n",
       "      <td>$18.50</td>\n",
       "      <td>$20.17</td>\n",
       "      <td>$18.33</td>\n",
       "    </tr>\n",
       "    <tr>\n",
       "      <th>...</th>\n",
       "      <td>...</td>\n",
       "      <td>...</td>\n",
       "      <td>...</td>\n",
       "      <td>...</td>\n",
       "      <td>...</td>\n",
       "      <td>...</td>\n",
       "      <td>...</td>\n",
       "    </tr>\n",
       "    <tr>\n",
       "      <th>1253</th>\n",
       "      <td>4</td>\n",
       "      <td>2024-11-22</td>\n",
       "      <td>$22.77</td>\n",
       "      <td>12821090</td>\n",
       "      <td>$22.29</td>\n",
       "      <td>$22.99</td>\n",
       "      <td>$22.265</td>\n",
       "    </tr>\n",
       "    <tr>\n",
       "      <th>1254</th>\n",
       "      <td>3</td>\n",
       "      <td>2024-11-25</td>\n",
       "      <td>$22.67</td>\n",
       "      <td>7440440</td>\n",
       "      <td>$22.79</td>\n",
       "      <td>$22.98</td>\n",
       "      <td>$22.435</td>\n",
       "    </tr>\n",
       "    <tr>\n",
       "      <th>1255</th>\n",
       "      <td>2</td>\n",
       "      <td>2024-11-26</td>\n",
       "      <td>$22.52</td>\n",
       "      <td>4680421</td>\n",
       "      <td>$22.76</td>\n",
       "      <td>$22.835</td>\n",
       "      <td>$22.245</td>\n",
       "    </tr>\n",
       "    <tr>\n",
       "      <th>1256</th>\n",
       "      <td>1</td>\n",
       "      <td>2024-11-27</td>\n",
       "      <td>$22.52</td>\n",
       "      <td>4679593</td>\n",
       "      <td>$22.54</td>\n",
       "      <td>$23.14</td>\n",
       "      <td>$22.36</td>\n",
       "    </tr>\n",
       "    <tr>\n",
       "      <th>1257</th>\n",
       "      <td>0</td>\n",
       "      <td>2024-11-29</td>\n",
       "      <td>$22.65</td>\n",
       "      <td>2770625</td>\n",
       "      <td>$22.58</td>\n",
       "      <td>$22.68</td>\n",
       "      <td>$22.46</td>\n",
       "    </tr>\n",
       "  </tbody>\n",
       "</table>\n",
       "<p>1258 rows × 7 columns</p>\n",
       "</div>"
      ],
      "text/plain": [
       "      index       Date Close/Last    Volume    Open      High       Low\n",
       "0      1257 2019-12-02     $19.54  22790570  $20.00    $20.42    $18.93\n",
       "1      1256 2019-12-03     $18.38  15187360  $19.25    $19.30    $18.33\n",
       "2      1255 2019-12-04     $18.70  10408040  $18.61    $19.16  $18.5003\n",
       "3      1254 2019-12-05     $18.58   7503783  $18.78  $18.9824    $18.44\n",
       "4      1253 2019-12-06     $19.99  10085920  $18.50    $20.17    $18.33\n",
       "...     ...        ...        ...       ...     ...       ...       ...\n",
       "1253      4 2024-11-22     $22.77  12821090  $22.29    $22.99   $22.265\n",
       "1254      3 2024-11-25     $22.67   7440440  $22.79    $22.98   $22.435\n",
       "1255      2 2024-11-26     $22.52   4680421  $22.76   $22.835   $22.245\n",
       "1256      1 2024-11-27     $22.52   4679593  $22.54    $23.14    $22.36\n",
       "1257      0 2024-11-29     $22.65   2770625  $22.58    $22.68    $22.46\n",
       "\n",
       "[1258 rows x 7 columns]"
      ]
     },
     "execution_count": 46,
     "metadata": {},
     "output_type": "execute_result"
    }
   ],
   "source": [
    "df.sort_values(by=\"Date\").reset_index()"
   ]
  },
  {
   "cell_type": "code",
   "execution_count": 103,
   "metadata": {},
   "outputs": [],
   "source": [
    "df['Date'] = pd.to_datetime(df['Date'])\n",
    "df = df.sort_values(by=\"Date\").reset_index()\n",
    "date = pd.to_datetime(\"07/01/2024\")\n",
    "while len(df[df['Date'] == date]) == 0:\n",
    "    date += pd.DateOffset(days=1)\n",
    "index = df[df['Date']==pd.to_datetime(date)].index[0]\n",
    "output_index = df[df['Date']==pd.to_datetime(date)+pd.DateOffset(days=30)].index[0]\n"
   ]
  },
  {
   "cell_type": "code",
   "execution_count": 113,
   "metadata": {},
   "outputs": [],
   "source": [
    "from sklearn.preprocessing import MinMaxScaler\n",
    "import numpy as np\n",
    "\n",
    "\n",
    "features = ['Open', 'Low', 'Volume']\n",
    "\n",
    "num_data = df[['Open','High','Low']].to_numpy().astype(str)\n",
    "num_data = np.char.replace(num_data, '$', '')\n",
    "\n",
    "\n",
    "output_var = df[['Close/Last']].to_numpy().astype(str)\n",
    "output_var = np.char.replace(output_var, '$', '')\n",
    "output_var = output_var.astype(float)\n",
    "\n",
    "scaler = MinMaxScaler()\n",
    "feature_transform = scaler.fit_transform(num_data)\n",
    "feature_transform= pd.DataFrame(columns=features, data=feature_transform, index=df.index)\n",
    "\n",
    "X_train, X_test = feature_transform[:index], feature_transform[index:]\n",
    "offset = len(output_var[:output_index]) - len(output_var[:index])\n",
    "y_train, y_test = output_var[offset:output_index], output_var[output_index:]"
   ]
  },
  {
   "cell_type": "code",
   "execution_count": 114,
   "metadata": {},
   "outputs": [
    {
     "data": {
      "text/plain": [
       "array([[25.36],\n",
       "       [25.69],\n",
       "       [25.64],\n",
       "       ...,\n",
       "       [31.21],\n",
       "       [30.78],\n",
       "       [31.03]])"
      ]
     },
     "execution_count": 114,
     "metadata": {},
     "output_type": "execute_result"
    }
   ],
   "source": [
    "y_train"
   ]
  },
  {
   "cell_type": "code",
   "execution_count": 115,
   "metadata": {},
   "outputs": [],
   "source": [
    "trainX =np.array(X_train)\n",
    "testX =np.array(X_test)\n",
    "X_train = trainX.reshape(X_train.shape[0], 1, X_train.shape[1])\n",
    "X_test = testX.reshape(X_test.shape[0], 1, X_test.shape[1])"
   ]
  },
  {
   "cell_type": "code",
   "execution_count": 116,
   "metadata": {},
   "outputs": [
    {
     "data": {
      "text/plain": [
       "(1151, 1, 3)"
      ]
     },
     "execution_count": 116,
     "metadata": {},
     "output_type": "execute_result"
    }
   ],
   "source": [
    "X_train.shape"
   ]
  },
  {
   "cell_type": "code",
   "execution_count": null,
   "metadata": {},
   "outputs": [
    {
     "name": "stdout",
     "output_type": "stream",
     "text": [
      "You must install pydot (`pip install pydot`) and install graphviz (see instructions at https://graphviz.gitlab.io/download/) for plot_model to work.\n",
      "Epoch 1/30\n",
      "144/144 [==============================] - 2s 2ms/step - loss: 918.3852\n",
      "Epoch 2/30\n",
      "144/144 [==============================] - 0s 2ms/step - loss: 791.4161\n",
      "Epoch 3/30\n",
      "144/144 [==============================] - 0s 2ms/step - loss: 542.4244\n",
      "Epoch 4/30\n",
      "144/144 [==============================] - 0s 2ms/step - loss: 271.7872\n",
      "Epoch 5/30\n",
      "144/144 [==============================] - 0s 2ms/step - loss: 101.5590\n",
      "Epoch 6/30\n",
      "144/144 [==============================] - 0s 2ms/step - loss: 39.8326\n",
      "Epoch 7/30\n",
      "144/144 [==============================] - 0s 2ms/step - loss: 27.2368\n",
      "Epoch 8/30\n",
      "144/144 [==============================] - 0s 2ms/step - loss: 25.7645\n",
      "Epoch 9/30\n",
      "144/144 [==============================] - 0s 2ms/step - loss: 25.6804\n",
      "Epoch 10/30\n",
      "144/144 [==============================] - 0s 2ms/step - loss: 25.6936\n",
      "Epoch 11/30\n",
      "144/144 [==============================] - 0s 2ms/step - loss: 25.7054\n",
      "Epoch 12/30\n",
      "144/144 [==============================] - 0s 2ms/step - loss: 25.7142\n",
      "Epoch 13/30\n",
      "144/144 [==============================] - 0s 2ms/step - loss: 25.7215\n",
      "Epoch 14/30\n",
      "144/144 [==============================] - 0s 3ms/step - loss: 25.7279\n"
     ]
    }
   ],
   "source": [
    "from keras.models import Sequential\n",
    "from keras.layers import Dense\n",
    "from keras.callbacks import EarlyStopping\n",
    "from keras.layers import LSTM\n",
    "from keras.utils import plot_model\n",
    "\n",
    "# Define early stopping\n",
    "early_stop = EarlyStopping(\n",
    "    monitor='loss',   # Monitor validation loss\n",
    "    patience=5,           # Stop after 3 epochs with no improvement\n",
    "    restore_best_weights=True  # Roll back to best model\n",
    ")\n",
    "\n",
    "lstm = Sequential()\n",
    "lstm.add(LSTM(32, input_shape=(1, trainX.shape[1]), activation='relu', return_sequences=False))\n",
    "lstm.add(Dense(1))\n",
    "lstm.compile(loss='mean_squared_error', optimizer='adam')\n",
    "plot_model(lstm, show_shapes=True, show_layer_names=True)\n",
    "history=lstm.fit(X_train, y_train, epochs=30, batch_size=8, verbose=1, shuffle=False, callbacks=[early_stop])\n"
   ]
  },
  {
   "cell_type": "code",
   "execution_count": null,
   "metadata": {},
   "outputs": [],
   "source": []
  }
 ],
 "metadata": {
  "kernelspec": {
   "display_name": "base",
   "language": "python",
   "name": "python3"
  },
  "language_info": {
   "codemirror_mode": {
    "name": "ipython",
    "version": 3
   },
   "file_extension": ".py",
   "mimetype": "text/x-python",
   "name": "python",
   "nbconvert_exporter": "python",
   "pygments_lexer": "ipython3",
   "version": "3.11.4"
  }
 },
 "nbformat": 4,
 "nbformat_minor": 2
}
